{
 "cells": [
  {
   "cell_type": "code",
   "execution_count": null,
   "metadata": {},
   "outputs": [],
   "source": [
    "from sklearn.linear_model import LogisticRegression \n",
    "from sklearn.preprocessing import PolynomialFeatures\n",
    "from sklearn import preprocessing\n",
    "from sklearn.model_selection import train_test_split \n",
    "import numpy as np\n",
    "import math\n",
    "import pandas as pd\n",
    "pd.options.mode.chained_assignment = None\n",
    "\n",
    "import matplotlib.pyplot as plt\n",
    "\n",
    "%matplotlib inline"
   ]
  },
  {
   "cell_type": "code",
   "execution_count": null,
   "metadata": {},
   "outputs": [],
   "source": [
    "drug_df = pd.read_csv(\"drug200.csv\")\n",
    "drug_df.head()"
   ]
  },
  {
   "cell_type": "code",
   "execution_count": null,
   "metadata": {},
   "outputs": [],
   "source": [
    "# drug type is the target feature\n",
    "x = drug_df[[\"Age\", \"Sex\", \"BP\", \"Cholesterol\", \"Na_to_K\"]]\n",
    "y = drug_df[[\"Drug\"]]"
   ]
  },
  {
   "cell_type": "markdown",
   "metadata": {},
   "source": [
    "<h2> Preprocessing the data </h2>"
   ]
  },
  {
   "cell_type": "code",
   "execution_count": null,
   "metadata": {},
   "outputs": [],
   "source": [
    "x[\"Sex\"] = x[\"Sex\"].map({\"F\":0, \"M\":1})\n",
    "x[\"BP\"] = x[\"BP\"].map({\"LOW\":0, \"NORMAL\":1, \"HIGH\":2})\n",
    "x[\"Cholesterol\"] = x[\"Cholesterol\"].map({\"LOW\":0, \"NORMAL\":1, \"HIGH\":2})"
   ]
  },
  {
   "cell_type": "code",
   "execution_count": null,
   "metadata": {},
   "outputs": [],
   "source": [
    "x = x.to_numpy()\n",
    "y = y.to_numpy()\n",
    "x_scaled = preprocessing.scale(x)\n",
    "print(x_scaled.shape)"
   ]
  },
  {
   "cell_type": "code",
   "execution_count": null,
   "metadata": {},
   "outputs": [],
   "source": [
    "x_train, x_test, y_train, y_test = train_test_split(x_scaled, y, test_size=0.25, train_size=0.75, random_state=42)\n",
    "y_train = y_train.reshape((y_train.shape[0]), 1)\n",
    "print(x_train.shape)\n",
    "print(y_train.shape)"
   ]
  },
  {
   "cell_type": "markdown",
   "metadata": {},
   "source": [
    "<h1> Logistic Regression with Lasso Regularization <h1>"
   ]
  },
  {
   "cell_type": "code",
   "execution_count": null,
   "metadata": {},
   "outputs": [],
   "source": [
    "acc_train_logreg = [] \n",
    "acc_test_logreg = []\n",
    "c_logreg = []\n",
    "def logreg_model(c , X_train, Y_train, X_test, Y_test):\n",
    "    logreg = LogisticRegression(C=c,penalty='l1', warm_start=True, solver='saga', max_iter=2000)\n",
    "    logreg.fit(X_train, Y_train.ravel())\n",
    "    Yhat_train = logreg.predict(X_train)\n",
    "    acc_train = np.mean(Yhat_train == Y_train)\n",
    "    acc_train_logreg.append(acc_train)\n",
    "    print(\"C = \",c)\n",
    "    print(\"Accuracy on training data = %f\" % acc_train)\n",
    "    Yhat_test = logreg.predict(X_test)\n",
    "    acc_test = np.mean(Yhat_test == Y_test)\n",
    "    acc_test_logreg.append(acc_test)\n",
    "    print(\"Accuracy on test data = %f\" % acc_test)\n",
    "    print()\n",
    "    c_logreg.append(c)"
   ]
  },
  {
   "cell_type": "code",
   "execution_count": null,
   "metadata": {},
   "outputs": [],
   "source": [
    "cVals = [0.0001, 0.001, 0.01, 0.1, 1, 10]\n",
    "for c in cVals:\n",
    "    logreg_model(c, x_train, y_train, x_test, y_test)"
   ]
  },
  {
   "cell_type": "code",
   "execution_count": null,
   "metadata": {},
   "outputs": [],
   "source": [
    "plt.plot(c_logreg, acc_train_logreg, 'ro-') \n",
    "plt.plot(c_logreg, acc_test_logreg,'bo-') \n",
    "plt.xlabel(\"C parameter\")\n",
    "plt.ylabel(\"Accuracy\")\n",
    "plt.grid()\n",
    "\n",
    "# Use the following function to have a legend\n",
    "plt.legend(['Training Accuracy', 'Test Accuracy'], loc='lower right')"
   ]
  },
  {
   "cell_type": "markdown",
   "metadata": {},
   "source": [
    "<h1> Logistic Regression with Ridge Regularization </h1>"
   ]
  },
  {
   "cell_type": "code",
   "execution_count": null,
   "metadata": {},
   "outputs": [],
   "source": [
    "acc_train_logreg2 = [] \n",
    "acc_test_logreg2 = []\n",
    "c_logreg2 = []"
   ]
  },
  {
   "cell_type": "code",
   "execution_count": null,
   "metadata": {},
   "outputs": [],
   "source": [
    "def logreg2_model(c , X_train, Y_train, X_test, Y_test):\n",
    "    logreg2 = LogisticRegression(C=c, warm_start=True, max_iter=2000)\n",
    "    logreg2.fit(X_train, Y_train.ravel())\n",
    "    Yhat_train = logreg2.predict(X_train)\n",
    "    acc_train = np.mean(Yhat_train == Y_train)\n",
    "    acc_train_logreg2.append(acc_train)\n",
    "    print(\"C = \",c)\n",
    "    print(\"Accuracy on training data = %f\" % acc_train)\n",
    "    Yhat_test = logreg2.predict(X_test)\n",
    "    acc_test = np.mean(Yhat_test == Y_test)\n",
    "    acc_test_logreg2.append(acc_test)\n",
    "    print(\"Accuracy on test data = %f\" % acc_test)\n",
    "    print()\n",
    "    c_logreg2.append(c)"
   ]
  },
  {
   "cell_type": "code",
   "execution_count": null,
   "metadata": {},
   "outputs": [],
   "source": [
    "for c in cVals:\n",
    "    logreg2_model(c, x_train, y_train, x_test, y_test)"
   ]
  },
  {
   "cell_type": "code",
   "execution_count": null,
   "metadata": {},
   "outputs": [],
   "source": [
    "plt.plot(c_logreg2, acc_train_logreg2, 'ro-') \n",
    "plt.plot(c_logreg2, acc_test_logreg2,'bo-') \n",
    "plt.xlabel(\"C parameter\")\n",
    "plt.ylabel(\"Accuracy\")\n",
    "plt.grid()\n",
    "plt.legend(['Training Accuracy', 'Test Accuracy'], loc='upper right')"
   ]
  },
  {
   "cell_type": "markdown",
   "metadata": {},
   "source": [
    "<h1> Logistic Regression Using Polynomial Feature Transformation <h1>"
   ]
  },
  {
   "cell_type": "code",
   "execution_count": null,
   "metadata": {},
   "outputs": [],
   "source": [
    "poly = PolynomialFeatures(degree=2)\n",
    "x_transformed_train = poly.fit_transform(x_train)\n",
    "x_transformed_test = poly.fit_transform(x_test)"
   ]
  },
  {
   "cell_type": "code",
   "execution_count": null,
   "metadata": {},
   "outputs": [],
   "source": [
    "acc_train_logreg = []\n",
    "acc_test_logreg = []\n",
    "c_logreg = []\n",
    "\n",
    "# Call the function logreg_model.\n",
    "for c in cVals:\n",
    "    logreg_model(c, x_transformed_train, y_train, x_transformed_test, y_test)\n",
    "    \n",
    "# Write code to plot 2 plots.\n",
    "# Plot training accuracy(Y-axis) v/s 'c' on X - Axis.\n",
    "# Plot test accuracy(Y-Axis) v/s 'c' on X - Axis.\n",
    "# Use the code that you wrote to draw the plot for logreg_model()\n",
    "\n",
    "plt.plot(c_logreg, acc_train_logreg, 'ro-') \n",
    "plt.plot(c_logreg, acc_test_logreg,'bo-') \n",
    "plt.xlabel(\"C parameter\")\n",
    "plt.ylabel(\"Accuracy\")\n",
    "plt.grid()\n",
    "plt.legend(['Training Accuracy', 'Test Accuracy'], loc='upper right')"
   ]
  },
  {
   "cell_type": "code",
   "execution_count": null,
   "metadata": {},
   "outputs": [],
   "source": [
    "acc_train_logreg2 = []\n",
    "acc_test_logreg2 = []\n",
    "c_logreg2 = []\n",
    "\n",
    "# Call the function logreg2_model.\n",
    "for c in cVals:\n",
    "    logreg2_model(c, x_transformed_train, y_train, x_transformed_test, y_test)\n",
    "    \n",
    "# Write code to plot 2 plots.\n",
    "# Plot training accuracy(Y-axis) v/s 'c' on X - Axis.\n",
    "# Plot test accuracy(Y-Axis) v/s 'c' on X - Axis.\n",
    "# Use the code that you wrote to draw the plot for logreg2_model()\n",
    "\n",
    "plt.plot(c_logreg2, acc_train_logreg2, 'ro-') \n",
    "plt.plot(c_logreg2, acc_test_logreg2,'bo-') \n",
    "plt.xlabel(\"C parameter\")\n",
    "plt.ylabel(\"Accuracy\")\n",
    "plt.grid()\n",
    "plt.legend(['Training Accuracy', 'Test Accuracy'], loc='upper right')"
   ]
  },
  {
   "cell_type": "code",
   "execution_count": null,
   "metadata": {},
   "outputs": [],
   "source": []
  }
 ],
 "metadata": {
  "kernelspec": {
   "display_name": "Python 3",
   "language": "python",
   "name": "python3"
  },
  "language_info": {
   "codemirror_mode": {
    "name": "ipython",
    "version": 3
   },
   "file_extension": ".py",
   "mimetype": "text/x-python",
   "name": "python",
   "nbconvert_exporter": "python",
   "pygments_lexer": "ipython3",
   "version": "3.8.6"
  }
 },
 "nbformat": 4,
 "nbformat_minor": 4
}
