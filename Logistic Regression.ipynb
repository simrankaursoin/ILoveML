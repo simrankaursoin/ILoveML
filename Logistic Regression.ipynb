{
 "cells": [
  {
   "cell_type": "code",
   "execution_count": 1,
   "metadata": {},
   "outputs": [],
   "source": [
    "from sklearn.linear_model import LogisticRegression \n",
    "from sklearn.preprocessing import PolynomialFeatures\n",
    "from sklearn import preprocessing\n",
    "from sklearn.model_selection import train_test_split \n",
    "import numpy as np\n",
    "import math\n",
    "import pandas as pd\n",
    "pd.options.mode.chained_assignment = None\n",
    "\n",
    "import matplotlib.pyplot as plt\n",
    "\n",
    "%matplotlib inline"
   ]
  },
  {
   "cell_type": "code",
   "execution_count": 2,
   "metadata": {},
   "outputs": [
    {
     "data": {
      "text/html": [
       "<div>\n",
       "<style scoped>\n",
       "    .dataframe tbody tr th:only-of-type {\n",
       "        vertical-align: middle;\n",
       "    }\n",
       "\n",
       "    .dataframe tbody tr th {\n",
       "        vertical-align: top;\n",
       "    }\n",
       "\n",
       "    .dataframe thead th {\n",
       "        text-align: right;\n",
       "    }\n",
       "</style>\n",
       "<table border=\"1\" class=\"dataframe\">\n",
       "  <thead>\n",
       "    <tr style=\"text-align: right;\">\n",
       "      <th></th>\n",
       "      <th>Age</th>\n",
       "      <th>Sex</th>\n",
       "      <th>BP</th>\n",
       "      <th>Cholesterol</th>\n",
       "      <th>Na_to_K</th>\n",
       "      <th>Drug</th>\n",
       "    </tr>\n",
       "  </thead>\n",
       "  <tbody>\n",
       "    <tr>\n",
       "      <th>0</th>\n",
       "      <td>23</td>\n",
       "      <td>F</td>\n",
       "      <td>HIGH</td>\n",
       "      <td>HIGH</td>\n",
       "      <td>25.355</td>\n",
       "      <td>DrugY</td>\n",
       "    </tr>\n",
       "    <tr>\n",
       "      <th>1</th>\n",
       "      <td>47</td>\n",
       "      <td>M</td>\n",
       "      <td>LOW</td>\n",
       "      <td>HIGH</td>\n",
       "      <td>13.093</td>\n",
       "      <td>drugC</td>\n",
       "    </tr>\n",
       "    <tr>\n",
       "      <th>2</th>\n",
       "      <td>47</td>\n",
       "      <td>M</td>\n",
       "      <td>LOW</td>\n",
       "      <td>HIGH</td>\n",
       "      <td>10.114</td>\n",
       "      <td>drugC</td>\n",
       "    </tr>\n",
       "    <tr>\n",
       "      <th>3</th>\n",
       "      <td>28</td>\n",
       "      <td>F</td>\n",
       "      <td>NORMAL</td>\n",
       "      <td>HIGH</td>\n",
       "      <td>7.798</td>\n",
       "      <td>drugX</td>\n",
       "    </tr>\n",
       "    <tr>\n",
       "      <th>4</th>\n",
       "      <td>61</td>\n",
       "      <td>F</td>\n",
       "      <td>LOW</td>\n",
       "      <td>HIGH</td>\n",
       "      <td>18.043</td>\n",
       "      <td>DrugY</td>\n",
       "    </tr>\n",
       "  </tbody>\n",
       "</table>\n",
       "</div>"
      ],
      "text/plain": [
       "   Age Sex      BP Cholesterol  Na_to_K   Drug\n",
       "0   23   F    HIGH        HIGH   25.355  DrugY\n",
       "1   47   M     LOW        HIGH   13.093  drugC\n",
       "2   47   M     LOW        HIGH   10.114  drugC\n",
       "3   28   F  NORMAL        HIGH    7.798  drugX\n",
       "4   61   F     LOW        HIGH   18.043  DrugY"
      ]
     },
     "execution_count": 2,
     "metadata": {},
     "output_type": "execute_result"
    }
   ],
   "source": [
    "drug_df = pd.read_csv(\"drug200.csv\")\n",
    "drug_df.head()"
   ]
  },
  {
   "cell_type": "code",
   "execution_count": 3,
   "metadata": {},
   "outputs": [],
   "source": [
    "# drug type is the target feature\n",
    "x = drug_df[[\"Age\", \"Sex\", \"BP\", \"Cholesterol\", \"Na_to_K\"]]\n",
    "y = drug_df[[\"Drug\"]]"
   ]
  },
  {
   "cell_type": "markdown",
   "metadata": {},
   "source": [
    "<h2> Preprocessing the data </h2>"
   ]
  },
  {
   "cell_type": "code",
   "execution_count": 4,
   "metadata": {},
   "outputs": [],
   "source": [
    "x[\"Sex\"] = x[\"Sex\"].map({\"F\":0, \"M\":1})\n",
    "x[\"BP\"] = x[\"BP\"].map({\"LOW\":0, \"NORMAL\":1, \"HIGH\":2})\n",
    "x[\"Cholesterol\"] = x[\"Cholesterol\"].map({\"LOW\":0, \"NORMAL\":1, \"HIGH\":2})"
   ]
  },
  {
   "cell_type": "code",
   "execution_count": 5,
   "metadata": {},
   "outputs": [
    {
     "name": "stdout",
     "output_type": "stream",
     "text": [
      "(200, 5)\n"
     ]
    }
   ],
   "source": [
    "x = x.to_numpy()\n",
    "y = y.to_numpy()\n",
    "x_scaled = preprocessing.scale(x)\n",
    "print(x_scaled.shape)"
   ]
  },
  {
   "cell_type": "code",
   "execution_count": 6,
   "metadata": {},
   "outputs": [
    {
     "name": "stdout",
     "output_type": "stream",
     "text": [
      "(150, 5)\n",
      "(150, 1)\n"
     ]
    }
   ],
   "source": [
    "x_train, x_test, y_train, y_test = train_test_split(x_scaled, y, test_size=0.25, train_size=0.75, random_state=42)\n",
    "y_train = y_train.reshape((y_train.shape[0]), 1)\n",
    "print(x_train.shape)\n",
    "print(y_train.shape)"
   ]
  },
  {
   "cell_type": "markdown",
   "metadata": {},
   "source": [
    "<h1> Logistic Regression with Lasso Regularization <h1>"
   ]
  },
  {
   "cell_type": "code",
   "execution_count": 7,
   "metadata": {},
   "outputs": [],
   "source": [
    "acc_train_logreg = [] \n",
    "acc_test_logreg = []\n",
    "c_logreg = []\n",
    "def logreg_model(c , X_train, Y_train, X_test, Y_test):\n",
    "    logreg = LogisticRegression(C=c,penalty='l1', warm_start=True, solver='saga', max_iter=2000)\n",
    "    logreg.fit(X_train, Y_train.ravel())\n",
    "    Yhat_train = logreg.predict(X_train)\n",
    "    acc_train = np.mean(Yhat_train == Y_train)\n",
    "    acc_train_logreg.append(acc_train)\n",
    "    print(\"C = \",c)\n",
    "    print(\"Accuracy on training data = %f\" % acc_train)\n",
    "    Yhat_test = logreg.predict(X_test)\n",
    "    acc_test = np.mean(Yhat_test == Y_test)\n",
    "    acc_test_logreg.append(acc_test)\n",
    "    print(\"Accuracy on test data = %f\" % acc_test)\n",
    "    print()\n",
    "    c_logreg.append(c)"
   ]
  },
  {
   "cell_type": "code",
   "execution_count": 8,
   "metadata": {},
   "outputs": [
    {
     "name": "stdout",
     "output_type": "stream",
     "text": [
      "C =  0.0001\n",
      "Accuracy on training data = 0.473333\n",
      "Accuracy on test data = 0.400000\n",
      "\n",
      "C =  0.001\n",
      "Accuracy on training data = 0.473333\n",
      "Accuracy on test data = 0.400000\n",
      "\n",
      "C =  0.01\n",
      "Accuracy on training data = 0.473333\n",
      "Accuracy on test data = 0.400000\n",
      "\n",
      "C =  0.1\n",
      "Accuracy on training data = 0.375733\n",
      "Accuracy on test data = 0.346000\n",
      "\n",
      "C =  1\n",
      "Accuracy on training data = 0.319467\n",
      "Accuracy on test data = 0.270000\n",
      "\n",
      "C =  10\n",
      "Accuracy on training data = 0.316444\n",
      "Accuracy on test data = 0.275600\n",
      "\n"
     ]
    }
   ],
   "source": [
    "cVals = [0.0001, 0.001, 0.01, 0.1, 1, 10]\n",
    "for c in cVals:\n",
    "    logreg_model(c, x_train, y_train, x_test, y_test)"
   ]
  },
  {
   "cell_type": "code",
   "execution_count": 9,
   "metadata": {},
   "outputs": [
    {
     "data": {
      "text/plain": [
       "<matplotlib.legend.Legend at 0x127ebb610>"
      ]
     },
     "execution_count": 9,
     "metadata": {},
     "output_type": "execute_result"
    },
    {
     "data": {
      "image/png": "[encoded data removed]",
      "text/plain": [
       "<Figure size 432x288 with 1 Axes>"
      ]
     },
     "metadata": {
      "needs_background": "light"
     },
     "output_type": "display_data"
    }
   ],
   "source": [
    "plt.plot(c_logreg, acc_train_logreg, 'ro-') \n",
    "plt.plot(c_logreg, acc_test_logreg,'bo-') \n",
    "plt.xlabel(\"C parameter\")\n",
    "plt.ylabel(\"Accuracy\")\n",
    "plt.grid()\n",
    "\n",
    "# Use the following function to have a legend\n",
    "plt.legend(['Training Accuracy', 'Test Accuracy'], loc='lower right')"
   ]
  },
  {
   "cell_type": "markdown",
   "metadata": {},
   "source": [
    "<h1> Logistic Regression with Ridge Regularization </h1>"
   ]
  },
  {
   "cell_type": "code",
   "execution_count": 10,
   "metadata": {},
   "outputs": [],
   "source": [
    "acc_train_logreg2 = [] \n",
    "acc_test_logreg2 = []\n",
    "c_logreg2 = []"
   ]
  },
  {
   "cell_type": "code",
   "execution_count": 11,
   "metadata": {},
   "outputs": [],
   "source": [
    "def logreg2_model(c , X_train, Y_train, X_test, Y_test):\n",
    "    logreg2 = LogisticRegression(C=c, warm_start=True, max_iter=2000)\n",
    "    logreg2.fit(X_train, Y_train.ravel())\n",
    "    Yhat_train = logreg2.predict(X_train)\n",
    "    acc_train = np.mean(Yhat_train == Y_train)\n",
    "    acc_train_logreg2.append(acc_train)\n",
    "    print(\"C = \",c)\n",
    "    print(\"Accuracy on training data = %f\" % acc_train)\n",
    "    Yhat_test = logreg2.predict(X_test)\n",
    "    acc_test = np.mean(Yhat_test == Y_test)\n",
    "    acc_test_logreg2.append(acc_test)\n",
    "    print(\"Accuracy on test data = %f\" % acc_test)\n",
    "    print()\n",
    "    c_logreg2.append(c)"
   ]
  },
  {
   "cell_type": "code",
   "execution_count": 12,
   "metadata": {},
   "outputs": [
    {
     "name": "stdout",
     "output_type": "stream",
     "text": [
      "C =  0.0001\n",
      "Accuracy on training data = 0.473333\n",
      "Accuracy on test data = 0.400000\n",
      "\n",
      "C =  0.001\n",
      "Accuracy on training data = 0.473333\n",
      "Accuracy on test data = 0.400000\n",
      "\n",
      "C =  0.01\n",
      "Accuracy on training data = 0.453422\n",
      "Accuracy on test data = 0.384000\n",
      "\n",
      "C =  0.1\n",
      "Accuracy on training data = 0.357244\n",
      "Accuracy on test data = 0.311600\n",
      "\n",
      "C =  1\n",
      "Accuracy on training data = 0.324889\n",
      "Accuracy on test data = 0.288000\n",
      "\n",
      "C =  10\n",
      "Accuracy on training data = 0.319289\n",
      "Accuracy on test data = 0.270000\n",
      "\n"
     ]
    }
   ],
   "source": [
    "for c in cVals:\n",
    "    logreg2_model(c, x_train, y_train, x_test, y_test)"
   ]
  },
  {
   "cell_type": "code",
   "execution_count": 13,
   "metadata": {},
   "outputs": [
    {
     "data": {
      "text/plain": [
       "<matplotlib.legend.Legend at 0x1280f9be0>"
      ]
     },
     "execution_count": 13,
     "metadata": {},
     "output_type": "execute_result"
    },
    {
     "data": {
      "image/png": "[encoded data removed]",
      "text/plain": [
       "<Figure size 432x288 with 1 Axes>"
      ]
     },
     "metadata": {
      "needs_background": "light"
     },
     "output_type": "display_data"
    }
   ],
   "source": [
    "plt.plot(c_logreg2, acc_train_logreg2, 'ro-') \n",
    "plt.plot(c_logreg2, acc_test_logreg2,'bo-') \n",
    "plt.xlabel(\"C parameter\")\n",
    "plt.ylabel(\"Accuracy\")\n",
    "plt.grid()\n",
    "plt.legend(['Training Accuracy', 'Test Accuracy'], loc='upper right')"
   ]
  },
  {
   "cell_type": "markdown",
   "metadata": {},
   "source": [
    "<h1> Logistic Regression Using Polynomial Feature Transformation <h1>"
   ]
  },
  {
   "cell_type": "code",
   "execution_count": 14,
   "metadata": {},
   "outputs": [],
   "source": [
    "poly = PolynomialFeatures(degree=2)\n",
    "x_transformed_train = poly.fit_transform(x_train)\n",
    "x_transformed_test = poly.fit_transform(x_test)"
   ]
  },
  {
   "cell_type": "code",
   "execution_count": 15,
   "metadata": {},
   "outputs": [
    {
     "name": "stdout",
     "output_type": "stream",
     "text": [
      "C =  0.0001\n",
      "Accuracy on training data = 0.473333\n",
      "Accuracy on test data = 0.400000\n",
      "\n",
      "C =  0.001\n",
      "Accuracy on training data = 0.473333\n",
      "Accuracy on test data = 0.400000\n",
      "\n",
      "C =  0.01\n",
      "Accuracy on training data = 0.473333\n",
      "Accuracy on test data = 0.400000\n",
      "\n",
      "C =  0.1\n",
      "Accuracy on training data = 0.356089\n",
      "Accuracy on test data = 0.329200\n",
      "\n",
      "C =  1\n",
      "Accuracy on training data = 0.316444\n",
      "Accuracy on test data = 0.281200\n",
      "\n",
      "C =  10\n",
      "Accuracy on training data = 0.316444\n",
      "Accuracy on test data = 0.275600\n",
      "\n"
     ]
    },
    {
     "name": "stderr",
     "output_type": "stream",
     "text": [
      "/Users/simransoin/src/IntroToML/venv/lib/python3.8/site-packages/sklearn/linear_model/_sag.py:329: ConvergenceWarning: The max_iter was reached which means the coef_ did not converge\n",
      "  warnings.warn(\"The max_iter was reached which means \"\n"
     ]
    },
    {
     "data": {
      "text/plain": [
       "<matplotlib.legend.Legend at 0x1281ab8e0>"
      ]
     },
     "execution_count": 15,
     "metadata": {},
     "output_type": "execute_result"
    },
    {
     "data": {
      "image/png": "[encoded data removed]",
      "text/plain": [
       "<Figure size 432x288 with 1 Axes>"
      ]
     },
     "metadata": {
      "needs_background": "light"
     },
     "output_type": "display_data"
    }
   ],
   "source": [
    "acc_train_logreg = []\n",
    "acc_test_logreg = []\n",
    "c_logreg = []\n",
    "\n",
    "# Call the function logreg_model.\n",
    "for c in cVals:\n",
    "    logreg_model(c, x_transformed_train, y_train, x_transformed_test, y_test)\n",
    "    \n",
    "# Write code to plot 2 plots.\n",
    "# Plot training accuracy(Y-axis) v/s 'c' on X - Axis.\n",
    "# Plot test accuracy(Y-Axis) v/s 'c' on X - Axis.\n",
    "# Use the code that you wrote to draw the plot for logreg_model()\n",
    "\n",
    "plt.plot(c_logreg, acc_train_logreg, 'ro-') \n",
    "plt.plot(c_logreg, acc_test_logreg,'bo-') \n",
    "plt.xlabel(\"C parameter\")\n",
    "plt.ylabel(\"Accuracy\")\n",
    "plt.grid()\n",
    "plt.legend(['Training Accuracy', 'Test Accuracy'], loc='upper right')"
   ]
  },
  {
   "cell_type": "code",
   "execution_count": 16,
   "metadata": {},
   "outputs": [
    {
     "name": "stdout",
     "output_type": "stream",
     "text": [
      "C =  0.0001\n",
      "Accuracy on training data = 0.473333\n",
      "Accuracy on test data = 0.400000\n",
      "\n",
      "C =  0.001\n",
      "Accuracy on training data = 0.473333\n",
      "Accuracy on test data = 0.400000\n",
      "\n",
      "C =  0.01\n",
      "Accuracy on training data = 0.434933\n",
      "Accuracy on test data = 0.374000\n",
      "\n",
      "C =  0.1\n",
      "Accuracy on training data = 0.320756\n",
      "Accuracy on test data = 0.297600\n",
      "\n",
      "C =  1\n",
      "Accuracy on training data = 0.317867\n",
      "Accuracy on test data = 0.275600\n",
      "\n",
      "C =  10\n",
      "Accuracy on training data = 0.316444\n",
      "Accuracy on test data = 0.275600\n",
      "\n"
     ]
    },
    {
     "data": {
      "text/plain": [
       "<matplotlib.legend.Legend at 0x12833afd0>"
      ]
     },
     "execution_count": 16,
     "metadata": {},
     "output_type": "execute_result"
    },
    {
     "data": {
      "image/png": "[encoded data removed]",
      "text/plain": [
       "<Figure size 432x288 with 1 Axes>"
      ]
     },
     "metadata": {
      "needs_background": "light"
     },
     "output_type": "display_data"
    }
   ],
   "source": [
    "acc_train_logreg2 = []\n",
    "acc_test_logreg2 = []\n",
    "c_logreg2 = []\n",
    "\n",
    "# Call the function logreg2_model.\n",
    "for c in cVals:\n",
    "    logreg2_model(c, x_transformed_train, y_train, x_transformed_test, y_test)\n",
    "    \n",
    "# Write code to plot 2 plots.\n",
    "# Plot training accuracy(Y-axis) v/s 'c' on X - Axis.\n",
    "# Plot test accuracy(Y-Axis) v/s 'c' on X - Axis.\n",
    "# Use the code that you wrote to draw the plot for logreg2_model()\n",
    "\n",
    "plt.plot(c_logreg2, acc_train_logreg2, 'ro-') \n",
    "plt.plot(c_logreg2, acc_test_logreg2,'bo-') \n",
    "plt.xlabel(\"C parameter\")\n",
    "plt.ylabel(\"Accuracy\")\n",
    "plt.grid()\n",
    "plt.legend(['Training Accuracy', 'Test Accuracy'], loc='upper right')"
   ]
  },
  {
   "cell_type": "code",
   "execution_count": null,
   "metadata": {},
   "outputs": [],
   "source": []
  }
 ],
 "metadata": {
  "kernelspec": {
   "display_name": "Python 3",
   "language": "python",
   "name": "python3"
  },
  "language_info": {
   "codemirror_mode": {
    "name": "ipython",
    "version": 3
   },
   "file_extension": ".py",
   "mimetype": "text/x-python",
   "name": "python",
   "nbconvert_exporter": "python",
   "pygments_lexer": "ipython3",
   "version": "3.8.6"
  }
 },
 "nbformat": 4,
 "nbformat_minor": 4
}
