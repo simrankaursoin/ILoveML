{
 "cells": [
  {
   "cell_type": "code",
   "execution_count": 1,
   "metadata": {},
   "outputs": [],
   "source": [
    "from sklearn.neural_network import MLPClassifier\n",
    "from sklearn.metrics import classification_report, confusion_matrix\n",
    "from sklearn import preprocessing\n",
    "from sklearn.model_selection import train_test_split \n",
    "import numpy as np\n",
    "import math\n",
    "import pandas as pd\n",
    "pd.options.mode.chained_assignment = None\n",
    "\n",
    "import matplotlib.pyplot as plt\n",
    "\n",
    "%matplotlib inline"
   ]
  },
  {
   "cell_type": "code",
   "execution_count": 2,
   "metadata": {},
   "outputs": [
    {
     "data": {
      "text/html": [
       "<div>\n",
       "<style scoped>\n",
       "    .dataframe tbody tr th:only-of-type {\n",
       "        vertical-align: middle;\n",
       "    }\n",
       "\n",
       "    .dataframe tbody tr th {\n",
       "        vertical-align: top;\n",
       "    }\n",
       "\n",
       "    .dataframe thead th {\n",
       "        text-align: right;\n",
       "    }\n",
       "</style>\n",
       "<table border=\"1\" class=\"dataframe\">\n",
       "  <thead>\n",
       "    <tr style=\"text-align: right;\">\n",
       "      <th></th>\n",
       "      <th>Age</th>\n",
       "      <th>Sex</th>\n",
       "      <th>BP</th>\n",
       "      <th>Cholesterol</th>\n",
       "      <th>Na_to_K</th>\n",
       "      <th>Drug</th>\n",
       "    </tr>\n",
       "  </thead>\n",
       "  <tbody>\n",
       "    <tr>\n",
       "      <th>0</th>\n",
       "      <td>23</td>\n",
       "      <td>F</td>\n",
       "      <td>HIGH</td>\n",
       "      <td>HIGH</td>\n",
       "      <td>25.355</td>\n",
       "      <td>DrugY</td>\n",
       "    </tr>\n",
       "    <tr>\n",
       "      <th>1</th>\n",
       "      <td>47</td>\n",
       "      <td>M</td>\n",
       "      <td>LOW</td>\n",
       "      <td>HIGH</td>\n",
       "      <td>13.093</td>\n",
       "      <td>drugC</td>\n",
       "    </tr>\n",
       "    <tr>\n",
       "      <th>2</th>\n",
       "      <td>47</td>\n",
       "      <td>M</td>\n",
       "      <td>LOW</td>\n",
       "      <td>HIGH</td>\n",
       "      <td>10.114</td>\n",
       "      <td>drugC</td>\n",
       "    </tr>\n",
       "    <tr>\n",
       "      <th>3</th>\n",
       "      <td>28</td>\n",
       "      <td>F</td>\n",
       "      <td>NORMAL</td>\n",
       "      <td>HIGH</td>\n",
       "      <td>7.798</td>\n",
       "      <td>drugX</td>\n",
       "    </tr>\n",
       "    <tr>\n",
       "      <th>4</th>\n",
       "      <td>61</td>\n",
       "      <td>F</td>\n",
       "      <td>LOW</td>\n",
       "      <td>HIGH</td>\n",
       "      <td>18.043</td>\n",
       "      <td>DrugY</td>\n",
       "    </tr>\n",
       "  </tbody>\n",
       "</table>\n",
       "</div>"
      ],
      "text/plain": [
       "   Age Sex      BP Cholesterol  Na_to_K   Drug\n",
       "0   23   F    HIGH        HIGH   25.355  DrugY\n",
       "1   47   M     LOW        HIGH   13.093  drugC\n",
       "2   47   M     LOW        HIGH   10.114  drugC\n",
       "3   28   F  NORMAL        HIGH    7.798  drugX\n",
       "4   61   F     LOW        HIGH   18.043  DrugY"
      ]
     },
     "execution_count": 2,
     "metadata": {},
     "output_type": "execute_result"
    }
   ],
   "source": [
    "drug_df = pd.read_csv(\"drug200.csv\")\n",
    "drug_df.head()"
   ]
  },
  {
   "cell_type": "code",
   "execution_count": 3,
   "metadata": {},
   "outputs": [],
   "source": [
    "# drug type is the target feature\n",
    "x = drug_df[[\"Age\", \"Sex\", \"BP\", \"Cholesterol\", \"Na_to_K\"]]\n",
    "y = drug_df[[\"Drug\"]]"
   ]
  },
  {
   "cell_type": "markdown",
   "metadata": {},
   "source": [
    "<h2> Preprocessing the data </h2>"
   ]
  },
  {
   "cell_type": "code",
   "execution_count": 4,
   "metadata": {},
   "outputs": [],
   "source": [
    "x[\"Sex\"] = x[\"Sex\"].map({\"F\":0, \"M\":1})\n",
    "x[\"BP\"] = x[\"BP\"].map({\"LOW\":0, \"NORMAL\":1, \"HIGH\":2})\n",
    "x[\"Cholesterol\"] = x[\"Cholesterol\"].map({\"LOW\":0, \"NORMAL\":1, \"HIGH\":2})"
   ]
  },
  {
   "cell_type": "code",
   "execution_count": 5,
   "metadata": {},
   "outputs": [
    {
     "name": "stdout",
     "output_type": "stream",
     "text": [
      "(200, 5)\n"
     ]
    }
   ],
   "source": [
    "x_np = x.to_numpy()\n",
    "y_np = y.to_numpy()\n",
    "x_scaled = preprocessing.scale(x_np)\n",
    "print(x_scaled.shape)"
   ]
  },
  {
   "cell_type": "code",
   "execution_count": 6,
   "metadata": {},
   "outputs": [
    {
     "name": "stdout",
     "output_type": "stream",
     "text": [
      "(150, 5)\n",
      "(150, 1)\n"
     ]
    }
   ],
   "source": [
    "x_train, x_test, y_train, y_test = train_test_split(x_scaled, y_np, test_size=0.25, train_size=0.75, random_state=42)\n",
    "y_train = y_train.reshape((y_train.shape[0]), 1)\n",
    "print(x_train.shape)\n",
    "print(y_train.shape)"
   ]
  },
  {
   "cell_type": "code",
   "execution_count": 7,
   "metadata": {
    "scrolled": false
   },
   "outputs": [
    {
     "name": "stdout",
     "output_type": "stream",
     "text": [
      "Learning Rate: 0.001 ; Train Accuracy:  1.0 ; Test Accuracy:  0.98\n",
      "[[19  0  1  0  0]\n",
      " [ 0  6  0  0  0]\n",
      " [ 0  0  3  0  0]\n",
      " [ 0  0  0  6  0]\n",
      " [ 0  0  0  0 15]]\n",
      "              precision    recall  f1-score   support\n",
      "\n",
      "       DrugY       1.00      0.95      0.97        20\n",
      "       drugA       1.00      1.00      1.00         6\n",
      "       drugB       0.75      1.00      0.86         3\n",
      "       drugC       1.00      1.00      1.00         6\n",
      "       drugX       1.00      1.00      1.00        15\n",
      "\n",
      "    accuracy                           0.98        50\n",
      "   macro avg       0.95      0.99      0.97        50\n",
      "weighted avg       0.98      0.98      0.98        50\n",
      "\n",
      "\n",
      "\n",
      "\n",
      "\n",
      "Learning Rate: 0.01 ; Train Accuracy:  1.0 ; Test Accuracy:  0.98\n",
      "[[19  0  1  0  0]\n",
      " [ 0  6  0  0  0]\n",
      " [ 0  0  3  0  0]\n",
      " [ 0  0  0  6  0]\n",
      " [ 0  0  0  0 15]]\n",
      "              precision    recall  f1-score   support\n",
      "\n",
      "       DrugY       1.00      0.95      0.97        20\n",
      "       drugA       1.00      1.00      1.00         6\n",
      "       drugB       0.75      1.00      0.86         3\n",
      "       drugC       1.00      1.00      1.00         6\n",
      "       drugX       1.00      1.00      1.00        15\n",
      "\n",
      "    accuracy                           0.98        50\n",
      "   macro avg       0.95      0.99      0.97        50\n",
      "weighted avg       0.98      0.98      0.98        50\n",
      "\n",
      "\n",
      "\n",
      "\n",
      "\n",
      "Learning Rate: 0.1 ; Train Accuracy:  1.0 ; Test Accuracy:  0.98\n",
      "[[19  0  1  0  0]\n",
      " [ 0  6  0  0  0]\n",
      " [ 0  0  3  0  0]\n",
      " [ 0  0  0  6  0]\n",
      " [ 0  0  0  0 15]]\n",
      "              precision    recall  f1-score   support\n",
      "\n",
      "       DrugY       1.00      0.95      0.97        20\n",
      "       drugA       1.00      1.00      1.00         6\n",
      "       drugB       0.75      1.00      0.86         3\n",
      "       drugC       1.00      1.00      1.00         6\n",
      "       drugX       1.00      1.00      1.00        15\n",
      "\n",
      "    accuracy                           0.98        50\n",
      "   macro avg       0.95      0.99      0.97        50\n",
      "weighted avg       0.98      0.98      0.98        50\n",
      "\n",
      "\n",
      "\n",
      "\n",
      "\n",
      "Learning Rate: 1 ; Train Accuracy:  1.0 ; Test Accuracy:  0.92\n",
      "[[19  0  1  0  0]\n",
      " [ 0  6  0  0  0]\n",
      " [ 0  0  3  0  0]\n",
      " [ 0  0  0  3  3]\n",
      " [ 0  0  0  0 15]]\n",
      "              precision    recall  f1-score   support\n",
      "\n",
      "       DrugY       1.00      0.95      0.97        20\n",
      "       drugA       1.00      1.00      1.00         6\n",
      "       drugB       0.75      1.00      0.86         3\n",
      "       drugC       1.00      0.50      0.67         6\n",
      "       drugX       0.83      1.00      0.91        15\n",
      "\n",
      "    accuracy                           0.92        50\n",
      "   macro avg       0.92      0.89      0.88        50\n",
      "weighted avg       0.94      0.92      0.91        50\n",
      "\n",
      "\n",
      "\n",
      "\n",
      "\n",
      "Learning Rate: 10 ; Train Accuracy:  0.9266666666666666 ; Test Accuracy:  0.74\n",
      "[[18  1  0  0  1]\n",
      " [ 1  5  0  0  0]\n",
      " [ 0  1  2  0  0]\n",
      " [ 0  0  0  2  4]\n",
      " [ 3  1  0  1 10]]\n",
      "              precision    recall  f1-score   support\n",
      "\n",
      "       DrugY       0.82      0.90      0.86        20\n",
      "       drugA       0.62      0.83      0.71         6\n",
      "       drugB       1.00      0.67      0.80         3\n",
      "       drugC       0.67      0.33      0.44         6\n",
      "       drugX       0.67      0.67      0.67        15\n",
      "\n",
      "    accuracy                           0.74        50\n",
      "   macro avg       0.76      0.68      0.70        50\n",
      "weighted avg       0.74      0.74      0.73        50\n",
      "\n",
      "\n",
      "\n",
      "\n",
      "\n"
     ]
    }
   ],
   "source": [
    "learning_rates=[0.001, 0.01, 0.1, 1, 10]\n",
    "for alpha in learning_rates:\n",
    "    clf = MLPClassifier(random_state=1, max_iter=1000, learning_rate_init=alpha)\n",
    "    clf.fit(x_train, y_train.ravel())\n",
    "    predictions = clf.predict(x_test)\n",
    "    print(\"Learning Rate:\", alpha, \"; Train Accuracy: \", clf.score(x_train, y_train), \"; Test Accuracy: \", clf.score(x_test, y_test))\n",
    "    print(confusion_matrix(y_test,predictions))\n",
    "    print(classification_report(y_test,predictions))\n",
    "    print(\"\\n\\n\\n\")"
   ]
  }
 ],
 "metadata": {
  "kernelspec": {
   "display_name": "Python 3",
   "language": "python",
   "name": "python3"
  },
  "language_info": {
   "codemirror_mode": {
    "name": "ipython",
    "version": 3
   },
   "file_extension": ".py",
   "mimetype": "text/x-python",
   "name": "python",
   "nbconvert_exporter": "python",
   "pygments_lexer": "ipython3",
   "version": "3.8.6"
  }
 },
 "nbformat": 4,
 "nbformat_minor": 4
}
