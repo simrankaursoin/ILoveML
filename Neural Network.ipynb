{
 "cells": [
  {
   "cell_type": "code",
   "execution_count": 1,
   "metadata": {},
   "outputs": [],
   "source": [
    "from sklearn.neural_network import MLPClassifier\n",
    "from sklearn.metrics import classification_report, confusion_matrix\n",
    "from sklearn import preprocessing\n",
    "from sklearn.model_selection import train_test_split \n",
    "import numpy as np\n",
    "import math\n",
    "import pandas as pd\n",
    "pd.options.mode.chained_assignment = None\n",
    "\n",
    "import matplotlib.pyplot as plt\n",
    "\n",
    "%matplotlib inline"
   ]
  },
  {
   "cell_type": "code",
   "execution_count": 2,
   "metadata": {},
   "outputs": [
    {
     "data": {
      "text/html": [
       "<div>\n",
       "<style scoped>\n",
       "    .dataframe tbody tr th:only-of-type {\n",
       "        vertical-align: middle;\n",
       "    }\n",
       "\n",
       "    .dataframe tbody tr th {\n",
       "        vertical-align: top;\n",
       "    }\n",
       "\n",
       "    .dataframe thead th {\n",
       "        text-align: right;\n",
       "    }\n",
       "</style>\n",
       "<table border=\"1\" class=\"dataframe\">\n",
       "  <thead>\n",
       "    <tr style=\"text-align: right;\">\n",
       "      <th></th>\n",
       "      <th>Age</th>\n",
       "      <th>Sex</th>\n",
       "      <th>BP</th>\n",
       "      <th>Cholesterol</th>\n",
       "      <th>Na_to_K</th>\n",
       "      <th>Drug</th>\n",
       "    </tr>\n",
       "  </thead>\n",
       "  <tbody>\n",
       "    <tr>\n",
       "      <th>0</th>\n",
       "      <td>23</td>\n",
       "      <td>F</td>\n",
       "      <td>HIGH</td>\n",
       "      <td>HIGH</td>\n",
       "      <td>25.355</td>\n",
       "      <td>DrugY</td>\n",
       "    </tr>\n",
       "    <tr>\n",
       "      <th>1</th>\n",
       "      <td>47</td>\n",
       "      <td>M</td>\n",
       "      <td>LOW</td>\n",
       "      <td>HIGH</td>\n",
       "      <td>13.093</td>\n",
       "      <td>drugC</td>\n",
       "    </tr>\n",
       "    <tr>\n",
       "      <th>2</th>\n",
       "      <td>47</td>\n",
       "      <td>M</td>\n",
       "      <td>LOW</td>\n",
       "      <td>HIGH</td>\n",
       "      <td>10.114</td>\n",
       "      <td>drugC</td>\n",
       "    </tr>\n",
       "    <tr>\n",
       "      <th>3</th>\n",
       "      <td>28</td>\n",
       "      <td>F</td>\n",
       "      <td>NORMAL</td>\n",
       "      <td>HIGH</td>\n",
       "      <td>7.798</td>\n",
       "      <td>drugX</td>\n",
       "    </tr>\n",
       "    <tr>\n",
       "      <th>4</th>\n",
       "      <td>61</td>\n",
       "      <td>F</td>\n",
       "      <td>LOW</td>\n",
       "      <td>HIGH</td>\n",
       "      <td>18.043</td>\n",
       "      <td>DrugY</td>\n",
       "    </tr>\n",
       "  </tbody>\n",
       "</table>\n",
       "</div>"
      ],
      "text/plain": [
       "   Age Sex      BP Cholesterol  Na_to_K   Drug\n",
       "0   23   F    HIGH        HIGH   25.355  DrugY\n",
       "1   47   M     LOW        HIGH   13.093  drugC\n",
       "2   47   M     LOW        HIGH   10.114  drugC\n",
       "3   28   F  NORMAL        HIGH    7.798  drugX\n",
       "4   61   F     LOW        HIGH   18.043  DrugY"
      ]
     },
     "execution_count": 2,
     "metadata": {},
     "output_type": "execute_result"
    }
   ],
   "source": [
    "drug_df = pd.read_csv(\"drug200.csv\")\n",
    "drug_df.head()"
   ]
  },
  {
   "cell_type": "code",
   "execution_count": 3,
   "metadata": {},
   "outputs": [],
   "source": [
    "# drug type is the target feature\n",
    "x = drug_df[[\"Age\", \"Sex\", \"BP\", \"Cholesterol\", \"Na_to_K\"]]\n",
    "y = drug_df[[\"Drug\"]]"
   ]
  },
  {
   "cell_type": "markdown",
   "metadata": {},
   "source": [
    "<h2> Preprocessing the data </h2>"
   ]
  },
  {
   "cell_type": "code",
   "execution_count": 4,
   "metadata": {},
   "outputs": [],
   "source": [
    "x[\"Sex\"] = x[\"Sex\"].map({\"F\":0, \"M\":1})\n",
    "x[\"BP\"] = x[\"BP\"].map({\"LOW\":0, \"NORMAL\":1, \"HIGH\":2})\n",
    "x[\"Cholesterol\"] = x[\"Cholesterol\"].map({\"LOW\":0, \"NORMAL\":1, \"HIGH\":2})"
   ]
  },
  {
   "cell_type": "code",
   "execution_count": 5,
   "metadata": {},
   "outputs": [
    {
     "name": "stdout",
     "output_type": "stream",
     "text": [
      "(200, 5)\n"
     ]
    }
   ],
   "source": [
    "x_np = x.to_numpy()\n",
    "y_np = y.to_numpy()\n",
    "x_scaled = preprocessing.scale(x_np)\n",
    "print(x_scaled.shape)"
   ]
  },
  {
   "cell_type": "code",
   "execution_count": 6,
   "metadata": {},
   "outputs": [
    {
     "name": "stdout",
     "output_type": "stream",
     "text": [
      "(150, 5)\n",
      "(150, 1)\n"
     ]
    }
   ],
   "source": [
    "x_train, x_test, y_train, y_test = train_test_split(x_scaled, y_np, test_size=0.25, train_size=0.75, random_state=42)\n",
    "y_train = y_train.reshape((y_train.shape[0]), 1)\n",
    "print(x_train.shape)\n",
    "print(y_train.shape)"
   ]
  },
  {
   "cell_type": "markdown",
   "metadata": {},
   "source": [
    "<h1> 1 Hidden Layer </h1>"
   ]
  },
  {
   "cell_type": "code",
   "execution_count": 7,
   "metadata": {
    "scrolled": false
   },
   "outputs": [
    {
     "name": "stderr",
     "output_type": "stream",
     "text": [
      "/Users/simransoin/src/IntroToML/venv/lib/python3.8/site-packages/sklearn/neural_network/_multilayer_perceptron.py:582: ConvergenceWarning: Stochastic Optimizer: Maximum iterations (1000) reached and the optimization hasn't converged yet.\n",
      "  warnings.warn(\n",
      "/Users/simransoin/src/IntroToML/venv/lib/python3.8/site-packages/sklearn/metrics/_classification.py:1221: UndefinedMetricWarning: Precision and F-score are ill-defined and being set to 0.0 in labels with no predicted samples. Use `zero_division` parameter to control this behavior.\n",
      "  _warn_prf(average, modifier, msg_start, len(result))\n"
     ]
    },
    {
     "name": "stdout",
     "output_type": "stream",
     "text": [
      "Learning Rate: 0.001 ; Train Accuracy:  0.64 ; Test Accuracy:  0.64\n",
      "[[18  0  0  0  2]\n",
      " [ 6  0  0  0  0]\n",
      " [ 3  0  0  0  0]\n",
      " [ 0  0  0  0  6]\n",
      " [ 1  0  0  0 14]]\n",
      "              precision    recall  f1-score   support\n",
      "\n",
      "       DrugY       0.64      0.90      0.75        20\n",
      "       drugA       0.00      0.00      0.00         6\n",
      "       drugB       0.00      0.00      0.00         3\n",
      "       drugC       0.00      0.00      0.00         6\n",
      "       drugX       0.64      0.93      0.76        15\n",
      "\n",
      "    accuracy                           0.64        50\n",
      "   macro avg       0.26      0.37      0.30        50\n",
      "weighted avg       0.45      0.64      0.53        50\n",
      "\n",
      "\n",
      "\n",
      "\n",
      "\n",
      "Learning Rate: 0.01 ; Train Accuracy:  0.7 ; Test Accuracy:  0.72\n",
      "[[20  0  0  0  0]\n",
      " [ 2  0  0  0  4]\n",
      " [ 1  0  1  0  1]\n",
      " [ 0  0  0  0  6]\n",
      " [ 0  0  0  0 15]]\n",
      "              precision    recall  f1-score   support\n",
      "\n",
      "       DrugY       0.87      1.00      0.93        20\n",
      "       drugA       0.00      0.00      0.00         6\n",
      "       drugB       1.00      0.33      0.50         3\n",
      "       drugC       0.00      0.00      0.00         6\n",
      "       drugX       0.58      1.00      0.73        15\n",
      "\n",
      "    accuracy                           0.72        50\n",
      "   macro avg       0.49      0.47      0.43        50\n",
      "weighted avg       0.58      0.72      0.62        50\n",
      "\n",
      "\n",
      "\n",
      "\n",
      "\n",
      "Learning Rate: 0.1 ; Train Accuracy:  0.74 ; Test Accuracy:  0.7\n",
      "[[20  0  0  0  0]\n",
      " [ 0  0  0  0  6]\n",
      " [ 0  0  0  0  3]\n",
      " [ 0  0  0  0  6]\n",
      " [ 0  0  0  0 15]]\n",
      "              precision    recall  f1-score   support\n",
      "\n",
      "       DrugY       1.00      1.00      1.00        20\n",
      "       drugA       0.00      0.00      0.00         6\n",
      "       drugB       0.00      0.00      0.00         3\n",
      "       drugC       0.00      0.00      0.00         6\n",
      "       drugX       0.50      1.00      0.67        15\n",
      "\n",
      "    accuracy                           0.70        50\n",
      "   macro avg       0.30      0.40      0.33        50\n",
      "weighted avg       0.55      0.70      0.60        50\n",
      "\n",
      "\n",
      "\n",
      "\n",
      "\n"
     ]
    },
    {
     "name": "stderr",
     "output_type": "stream",
     "text": [
      "/Users/simransoin/src/IntroToML/venv/lib/python3.8/site-packages/sklearn/metrics/_classification.py:1221: UndefinedMetricWarning: Precision and F-score are ill-defined and being set to 0.0 in labels with no predicted samples. Use `zero_division` parameter to control this behavior.\n",
      "  _warn_prf(average, modifier, msg_start, len(result))\n",
      "/Users/simransoin/src/IntroToML/venv/lib/python3.8/site-packages/sklearn/metrics/_classification.py:1221: UndefinedMetricWarning: Precision and F-score are ill-defined and being set to 0.0 in labels with no predicted samples. Use `zero_division` parameter to control this behavior.\n",
      "  _warn_prf(average, modifier, msg_start, len(result))\n"
     ]
    },
    {
     "name": "stdout",
     "output_type": "stream",
     "text": [
      "Learning Rate: 1 ; Train Accuracy:  0.6066666666666667 ; Test Accuracy:  0.5\n",
      "[[19  0  1  0  0]\n",
      " [ 1  0  4  0  1]\n",
      " [ 0  0  2  0  1]\n",
      " [ 1  0  4  0  1]\n",
      " [ 0  0 11  0  4]]\n",
      "              precision    recall  f1-score   support\n",
      "\n",
      "       DrugY       0.90      0.95      0.93        20\n",
      "       drugA       0.00      0.00      0.00         6\n",
      "       drugB       0.09      0.67      0.16         3\n",
      "       drugC       0.00      0.00      0.00         6\n",
      "       drugX       0.57      0.27      0.36        15\n",
      "\n",
      "    accuracy                           0.50        50\n",
      "   macro avg       0.31      0.38      0.29        50\n",
      "weighted avg       0.54      0.50      0.49        50\n",
      "\n",
      "\n",
      "\n",
      "\n",
      "\n",
      "Learning Rate: 10 ; Train Accuracy:  0.26 ; Test Accuracy:  0.3\n",
      "[[ 0  1  0  0 19]\n",
      " [ 0  0  0  0  6]\n",
      " [ 0  0  0  0  3]\n",
      " [ 0  0  0  0  6]\n",
      " [ 0  0  0  0 15]]\n",
      "              precision    recall  f1-score   support\n",
      "\n",
      "       DrugY       0.00      0.00      0.00        20\n",
      "       drugA       0.00      0.00      0.00         6\n",
      "       drugB       0.00      0.00      0.00         3\n",
      "       drugC       0.00      0.00      0.00         6\n",
      "       drugX       0.31      1.00      0.47        15\n",
      "\n",
      "    accuracy                           0.30        50\n",
      "   macro avg       0.06      0.20      0.09        50\n",
      "weighted avg       0.09      0.30      0.14        50\n",
      "\n",
      "\n",
      "\n",
      "\n",
      "\n"
     ]
    },
    {
     "name": "stderr",
     "output_type": "stream",
     "text": [
      "/Users/simransoin/src/IntroToML/venv/lib/python3.8/site-packages/sklearn/metrics/_classification.py:1221: UndefinedMetricWarning: Precision and F-score are ill-defined and being set to 0.0 in labels with no predicted samples. Use `zero_division` parameter to control this behavior.\n",
      "  _warn_prf(average, modifier, msg_start, len(result))\n",
      "/Users/simransoin/src/IntroToML/venv/lib/python3.8/site-packages/sklearn/metrics/_classification.py:1221: UndefinedMetricWarning: Precision and F-score are ill-defined and being set to 0.0 in labels with no predicted samples. Use `zero_division` parameter to control this behavior.\n",
      "  _warn_prf(average, modifier, msg_start, len(result))\n"
     ]
    }
   ],
   "source": [
    "learning_rates=[0.001, 0.01, 0.1, 1, 10]\n",
    "train_accuracies = []\n",
    "test_accuracies = []\n",
    "for alpha in learning_rates:\n",
    "    clf = MLPClassifier(hidden_layer_sizes=1, random_state=1, max_iter=1000, learning_rate_init=alpha)\n",
    "    clf.fit(x_train, y_train.ravel())\n",
    "    predictions = clf.predict(x_test)\n",
    "    train_accuracies.append(clf.score(x_train, y_train))\n",
    "    test_accuracies.append(clf.score(x_test, y_test))\n",
    "    print(\"Learning Rate:\", alpha, \"; Train Accuracy: \", clf.score(x_train, y_train), \"; Test Accuracy: \", clf.score(x_test, y_test))\n",
    "    print(confusion_matrix(y_test,predictions))\n",
    "    print(classification_report(y_test,predictions))\n",
    "    print(\"\\n\\n\\n\")"
   ]
  },
  {
   "cell_type": "code",
   "execution_count": 8,
   "metadata": {},
   "outputs": [
    {
     "data": {
      "text/plain": [
       "<matplotlib.legend.Legend at 0x1260ffd00>"
      ]
     },
     "execution_count": 8,
     "metadata": {},
     "output_type": "execute_result"
    },
    {
     "data": {
      "image/png": "[encoded data removed]",
      "text/plain": [
       "<Figure size 432x288 with 1 Axes>"
      ]
     },
     "metadata": {
      "needs_background": "light"
     },
     "output_type": "display_data"
    }
   ],
   "source": [
    "plt.plot(learning_rates, train_accuracies, c=\"black\")\n",
    "plt.plot(learning_rates, test_accuracies, c=\"red\")\n",
    "plt.xlabel(\"Learning rate\")\n",
    "plt.ylabel(\"Accuracy\")\n",
    "plt.legend(['Training Accuracy', 'Test Accuracy'], loc='upper right')"
   ]
  },
  {
   "cell_type": "code",
   "execution_count": null,
   "metadata": {},
   "outputs": [],
   "source": [
    "<h1> 2 Hidden Layers </h1>"
   ]
  },
  {
   "cell_type": "code",
   "execution_count": null,
   "metadata": {},
   "outputs": [],
   "source": [
    "learning_rates=[0.001, 0.01, 0.1, 1, 10]\n",
    "train_accuracies = []\n",
    "test_accuracies = []\n",
    "for alpha in learning_rates:\n",
    "    clf = MLPClassifier(hidden_layer_sizes=2, random_state=1, max_iter=1000, learning_rate_init=alpha)\n",
    "    clf.fit(x_train, y_train.ravel())\n",
    "    predictions = clf.predict(x_test)\n",
    "    train_accuracies.append(clf.score(x_train, y_train))\n",
    "    test_accuracies.append(clf.score(x_test, y_test))\n",
    "    print(\"Learning Rate:\", alpha, \"; Train Accuracy: \", clf.score(x_train, y_train), \"; Test Accuracy: \", clf.score(x_test, y_test))\n",
    "    print(confusion_matrix(y_test,predictions))\n",
    "    print(classification_report(y_test,predictions))\n",
    "    print(\"\\n\\n\\n\")"
   ]
  },
  {
   "cell_type": "code",
   "execution_count": null,
   "metadata": {},
   "outputs": [],
   "source": [
    "plt.plot(learning_rates, train_accuracies, c=\"black\")\n",
    "plt.plot(learning_rates, test_accuracies, c=\"red\")\n",
    "plt.xlabel(\"Learning rate\")\n",
    "plt.ylabel(\"Accuracy\")\n",
    "plt.legend(['Training Accuracy', 'Test Accuracy'], loc='upper right')"
   ]
  }
 ],
 "metadata": {
  "kernelspec": {
   "display_name": "Python 3",
   "language": "python",
   "name": "python3"
  },
  "language_info": {
   "codemirror_mode": {
    "name": "ipython",
    "version": 3
   },
   "file_extension": ".py",
   "mimetype": "text/x-python",
   "name": "python",
   "nbconvert_exporter": "python",
   "pygments_lexer": "ipython3",
   "version": "3.8.6"
  }
 },
 "nbformat": 4,
 "nbformat_minor": 4
}
